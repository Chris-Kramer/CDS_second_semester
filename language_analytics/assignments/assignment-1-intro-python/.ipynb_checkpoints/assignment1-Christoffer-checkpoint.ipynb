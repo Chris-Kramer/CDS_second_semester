{
 "cells": [
  {
   "cell_type": "markdown",
   "metadata": {},
   "source": [
    "## Assignment 1 - Basic scripting with Python"
   ]
  },
  {
   "cell_type": "markdown",
   "metadata": {},
   "source": [
    "__Christoffer Kramer__"
   ]
  },
  {
   "cell_type": "markdown",
   "metadata": {},
   "source": [
    "_08-02-2021_"
   ]
  },
  {
   "cell_type": "markdown",
   "metadata": {},
   "source": [
    "Using the corpus called 100-english-novels found on the cds-language GitHub repo, write a Python programme which does the following:"
   ]
  },
  {
   "cell_type": "markdown",
   "metadata": {},
   "source": [
    "## Calculate the total word count for each novel"
   ]
  },
  {
   "cell_type": "markdown",
   "metadata": {},
   "source": [
    "I start by importing relevant packages"
   ]
  },
  {
   "cell_type": "code",
   "execution_count": 2,
   "metadata": {},
   "outputs": [],
   "source": [
    "#import packages\n",
    "import os\n",
    "import csv\n",
    "from pathlib import Path"
   ]
  },
  {
   "cell_type": "markdown",
   "metadata": {},
   "source": [
    "I then use the os package to make the path name work across different operating systems, and save it in a variable"
   ]
  },
  {
   "cell_type": "code",
   "execution_count": 3,
   "metadata": {},
   "outputs": [],
   "source": [
    "data_path = os.path.join(\"..\", \"..\",\"..\",\"cds-language\", \"data\", \"100_english_novels\", \"corpus\") \n",
    "#save path to directory in variable"
   ]
  },
  {
   "cell_type": "markdown",
   "metadata": {},
   "source": [
    "Using a loop, I go through each file ending in \".txt\" in the specified path. I then open the file, read the text, split each word on whitespace and save the result in a list. I then save the lenght of the list (split_text) in a variable. Lastly I print out the result."
   ]
  },
  {
   "cell_type": "code",
   "execution_count": 4,
   "metadata": {},
   "outputs": [
    {
     "name": "stdout",
     "output_type": "stream",
     "text": [
      "../../../cds-language/data/100_english_novels/corpus/Cbronte_Villette_1853.txt contains 196557 words.\n",
      "../../../cds-language/data/100_english_novels/corpus/Forster_Angels_1905.txt contains 50477 words.\n",
      "../../../cds-language/data/100_english_novels/corpus/Woolf_Lighthouse_1927.txt contains 70185 words.\n",
      "../../../cds-language/data/100_english_novels/corpus/Meredith_Richmond_1871.txt contains 214985 words.\n",
      "../../../cds-language/data/100_english_novels/corpus/Stevenson_Treasure_1883.txt contains 68448 words.\n",
      "../../../cds-language/data/100_english_novels/corpus/Forster_Howards_1910.txt contains 111057 words.\n",
      "../../../cds-language/data/100_english_novels/corpus/Wcollins_Basil_1852.txt contains 118088 words.\n",
      "../../../cds-language/data/100_english_novels/corpus/Schreiner_Undine_1929.txt contains 90672 words.\n",
      "../../../cds-language/data/100_english_novels/corpus/Galsworthy_Man_1906.txt contains 110455 words.\n",
      "../../../cds-language/data/100_english_novels/corpus/Corelli_Innocent_1914.txt contains 121950 words.\n",
      "../../../cds-language/data/100_english_novels/corpus/Kipling_Light_1891.txt contains 72479 words.\n",
      "../../../cds-language/data/100_english_novels/corpus/Conrad_Nostromo_1904.txt contains 172276 words.\n",
      "../../../cds-language/data/100_english_novels/corpus/Stevenson_Arrow_1888.txt contains 80291 words.\n",
      "../../../cds-language/data/100_english_novels/corpus/Hardy_Tess_1891.txt contains 151197 words.\n",
      "../../../cds-language/data/100_english_novels/corpus/Thackeray_Esmond_1852.txt contains 187049 words.\n",
      "../../../cds-language/data/100_english_novels/corpus/Doyle_Lost_1912.txt contains 76281 words.\n",
      "../../../cds-language/data/100_english_novels/corpus/Trollope_Angel_1881.txt contains 217694 words.\n",
      "../../../cds-language/data/100_english_novels/corpus/Gissing_Warburton_1903.txt contains 85093 words.\n",
      "../../../cds-language/data/100_english_novels/corpus/Barclay_Rosary_1909.txt contains 105920 words.\n",
      "../../../cds-language/data/100_english_novels/corpus/Eliot_Daniel_1876.txt contains 311335 words.\n",
      "../../../cds-language/data/100_english_novels/corpus/James_Tragic_1890.txt contains 210553 words.\n",
      "../../../cds-language/data/100_english_novels/corpus/Doyle_Micah_1889.txt contains 177917 words.\n",
      "../../../cds-language/data/100_english_novels/corpus/Dickens_Bleak_1853.txt contains 357936 words.\n",
      "../../../cds-language/data/100_english_novels/corpus/Woolf_Night_1919.txt contains 167075 words.\n",
      "../../../cds-language/data/100_english_novels/corpus/Braddon_Audley_1862.txt contains 148763 words.\n",
      "../../../cds-language/data/100_english_novels/corpus/Bennet_Babylon_1902.txt contains 68397 words.\n",
      "../../../cds-language/data/100_english_novels/corpus/Kipling_Kim_1901.txt contains 107663 words.\n",
      "../../../cds-language/data/100_english_novels/corpus/Lytton_What_1858.txt contains 338512 words.\n",
      "../../../cds-language/data/100_english_novels/corpus/Meredith_Marriage_1895.txt contains 156151 words.\n",
      "../../../cds-language/data/100_english_novels/corpus/Corelli_Satan_1895.txt contains 169571 words.\n",
      "../../../cds-language/data/100_english_novels/corpus/Haggard_Mines_1885.txt contains 82948 words.\n",
      "../../../cds-language/data/100_english_novels/corpus/Stevenson_Catriona_1893.txt contains 102106 words.\n",
      "../../../cds-language/data/100_english_novels/corpus/Doyle_Hound_1902.txt contains 59639 words.\n",
      "../../../cds-language/data/100_english_novels/corpus/Chesterton_Innocence_1911.txt contains 79361 words.\n",
      "../../../cds-language/data/100_english_novels/corpus/Blackmore_Lorna_1869.txt contains 273259 words.\n",
      "../../../cds-language/data/100_english_novels/corpus/Haggard_Sheallan_1921.txt contains 121506 words.\n",
      "../../../cds-language/data/100_english_novels/corpus/Gaskell_Wives_1865.txt contains 270014 words.\n",
      "../../../cds-language/data/100_english_novels/corpus/Cbronte_Jane_1847.txt contains 189103 words.\n",
      "../../../cds-language/data/100_english_novels/corpus/Wcollins_Legacy_1889.txt contains 120704 words.\n",
      "../../../cds-language/data/100_english_novels/corpus/Morris_Roots_1890.txt contains 154305 words.\n",
      "../../../cds-language/data/100_english_novels/corpus/Burnett_Garden_1911.txt contains 81043 words.\n",
      "../../../cds-language/data/100_english_novels/corpus/Ford_Post_1926.txt contains 72055 words.\n",
      "../../../cds-language/data/100_english_novels/corpus/Thackeray_Pendennis_1850.txt contains 359496 words.\n",
      "../../../cds-language/data/100_english_novels/corpus/James_Roderick_1875.txt contains 132759 words.\n",
      "../../../cds-language/data/100_english_novels/corpus/Haggard_She_1887.txt contains 113770 words.\n",
      "../../../cds-language/data/100_english_novels/corpus/Galsworthy_River_1933.txt contains 89871 words.\n",
      "../../../cds-language/data/100_english_novels/corpus/Morris_Wood_1894.txt contains 49983 words.\n",
      "../../../cds-language/data/100_english_novels/corpus/Barclay_Postern_1911.txt contains 40015 words.\n",
      "../../../cds-language/data/100_english_novels/corpus/Conrad_Almayer_1895.txt contains 63257 words.\n",
      "../../../cds-language/data/100_english_novels/corpus/Thackeray_Virginians_1859.txt contains 356604 words.\n",
      "../../../cds-language/data/100_english_novels/corpus/Bennet_Helen_1910.txt contains 52644 words.\n",
      "../../../cds-language/data/100_english_novels/corpus/Lee_Brown_1884.txt contains 48242 words.\n",
      "../../../cds-language/data/100_english_novels/corpus/Lawrence_Women_1920.txt contains 183180 words.\n",
      "../../../cds-language/data/100_english_novels/corpus/Schreiner_Farm_1883.txt contains 100645 words.\n",
      "../../../cds-language/data/100_english_novels/corpus/Lytton_Novel_1853.txt contains 456592 words.\n",
      "../../../cds-language/data/100_english_novels/corpus/Lawrence_Peacock_1911.txt contains 124497 words.\n",
      "../../../cds-language/data/100_english_novels/corpus/Schreiner_Trooper_1897.txt contains 24612 words.\n",
      "../../../cds-language/data/100_english_novels/corpus/Cbronte_Shirley_1849.txt contains 218572 words.\n",
      "../../../cds-language/data/100_english_novels/corpus/James_Ambassadors_1903.txt contains 167555 words.\n",
      "../../../cds-language/data/100_english_novels/corpus/Lawrence_Serpent_1926.txt contains 172356 words.\n",
      "../../../cds-language/data/100_english_novels/corpus/Braddon_Quest_1871.txt contains 174199 words.\n",
      "../../../cds-language/data/100_english_novels/corpus/Dickens_Oliver_1839.txt contains 159489 words.\n",
      "../../../cds-language/data/100_english_novels/corpus/Trollope_Warden_1855.txt contains 72102 words.\n",
      "../../../cds-language/data/100_english_novels/corpus/Barclay_Ladies_1917.txt contains 122382 words.\n",
      "../../../cds-language/data/100_english_novels/corpus/Ward_Harvest_1920.txt contains 75043 words.\n",
      "../../../cds-language/data/100_english_novels/corpus/Blackmore_Erema_1877.txt contains 167016 words.\n",
      "../../../cds-language/data/100_english_novels/corpus/Wcollins_Woman_1860.txt contains 247078 words.\n",
      "../../../cds-language/data/100_english_novels/corpus/Hardy_Madding_1874.txt contains 138440 words.\n",
      "../../../cds-language/data/100_english_novels/corpus/Lee_Penelope_1903.txt contains 21840 words.\n",
      "../../../cds-language/data/100_english_novels/corpus/Eliot_Adam_1859.txt contains 216651 words.\n",
      "../../../cds-language/data/100_english_novels/corpus/Gaskell_Lovers_1863.txt contains 191037 words.\n",
      "../../../cds-language/data/100_english_novels/corpus/Corelli_Romance_1886.txt contains 100526 words.\n",
      "../../../cds-language/data/100_english_novels/corpus/Conrad_Rover_1923.txt contains 88101 words.\n",
      "../../../cds-language/data/100_english_novels/corpus/Gissing_Women_1893.txt contains 139234 words.\n",
      "../../../cds-language/data/100_english_novels/corpus/Woolf_Years_1937.txt contains 130903 words.\n",
      "../../../cds-language/data/100_english_novels/corpus/Trollope_Phineas_1869.txt contains 266634 words.\n",
      "../../../cds-language/data/100_english_novels/corpus/Lytton_Kenelm_1873.txt contains 193074 words.\n",
      "../../../cds-language/data/100_english_novels/corpus/Blackmore_Springhaven_1887.txt contains 202113 words.\n",
      "../../../cds-language/data/100_english_novels/corpus/Forster_View_1908.txt contains 67930 words.\n",
      "../../../cds-language/data/100_english_novels/corpus/Eliot_Felix_1866.txt contains 182816 words.\n",
      "../../../cds-language/data/100_english_novels/corpus/Chesterton_Napoleon_1904.txt contains 54920 words.\n",
      "../../../cds-language/data/100_english_novels/corpus/Bennet_Imperial_1930.txt contains 255975 words.\n",
      "../../../cds-language/data/100_english_novels/corpus/Burnett_Princess_1905.txt contains 66877 words.\n",
      "../../../cds-language/data/100_english_novels/corpus/Ward_Milly_1881.txt contains 47588 words.\n",
      "../../../cds-language/data/100_english_novels/corpus/Ford_Girl_1907.txt contains 35708 words.\n"
     ]
    },
    {
     "name": "stdout",
     "output_type": "stream",
     "text": [
      "../../../cds-language/data/100_english_novels/corpus/Meredith_Feverel_1859.txt contains 168781 words.\n",
      "../../../cds-language/data/100_english_novels/corpus/Lee_Albany_1884.txt contains 62913 words.\n",
      "../../../cds-language/data/100_english_novels/corpus/Ford_Soldier_1915.txt contains 76750 words.\n",
      "../../../cds-language/data/100_english_novels/corpus/Ward_Ashe_1905.txt contains 141832 words.\n",
      "../../../cds-language/data/100_english_novels/corpus/Morris_Water_1897.txt contains 147737 words.\n",
      "../../../cds-language/data/100_english_novels/corpus/Galsworthy_Saints_1919.txt contains 95156 words.\n",
      "../../../cds-language/data/100_english_novels/corpus/Gissing_Unclassed_1884.txt contains 124877 words.\n",
      "../../../cds-language/data/100_english_novels/corpus/Anon_Clara_1864.txt contains 197620 words.\n",
      "../../../cds-language/data/100_english_novels/corpus/Hardy_Jude_1895.txt contains 147273 words.\n",
      "../../../cds-language/data/100_english_novels/corpus/Dickens_Expectations_1861.txt contains 186804 words.\n",
      "../../../cds-language/data/100_english_novels/corpus/Chesterton_Thursday_1908.txt contains 58299 words.\n",
      "../../../cds-language/data/100_english_novels/corpus/Burnett_Lord_1886.txt contains 58698 words.\n",
      "../../../cds-language/data/100_english_novels/corpus/Braddon_Phantom_1883.txt contains 180676 words.\n",
      "../../../cds-language/data/100_english_novels/corpus/Gaskell_Ruth_1855.txt contains 161797 words.\n",
      "../../../cds-language/data/100_english_novels/corpus/Kipling_Captains_1896.txt contains 53467 words.\n"
     ]
    }
   ],
   "source": [
    "for filename in Path(data_path).glob(\"*.txt\"): #for each filename in the directory\n",
    "    \n",
    "    with open(filename, \"r\", encoding=\"utf-8\") as file: #open the file\n",
    "        loaded_text = file.read() #Read file and save in variable\n",
    "        split_text = loaded_text.split() # split text on whitespace\n",
    "        word_count = len(split_text) #count words and save result in a variable\n",
    "        print(f\"{filename} contains {word_count} words.\")#Print word-count\n",
    "        "
   ]
  },
  {
   "cell_type": "markdown",
   "metadata": {},
   "source": [
    "## Calculate the total number of unique words for each novel"
   ]
  },
  {
   "cell_type": "markdown",
   "metadata": {},
   "source": [
    "I do the same as previously. However, this time I also makes the text lowercase to avoid having words with uppercase letters being counted as a unique words. I should probably also remove special characters, but since I've never used python before, I don't know how. I tried using another nested loop, but this approach seems woefully inefficient and complicated. \n",
    "I also create an empty list called \"unique words\". <br> <br>\n",
    "Using a nested loop I check if the current word in the list \"split_text\" is also present in the list \"unique_words\", if it is not, I append the word to the list. Lastly I print out the lenght of the list \"unique_words\". "
   ]
  },
  {
   "cell_type": "code",
   "execution_count": 5,
   "metadata": {},
   "outputs": [
    {
     "name": "stdout",
     "output_type": "stream",
     "text": [
      "../../../cds-language/data/100_english_novels/corpus/Cbronte_Villette_1853.txt contains 29084 unique words.\n",
      "../../../cds-language/data/100_english_novels/corpus/Forster_Angels_1905.txt contains 9464 unique words.\n",
      "../../../cds-language/data/100_english_novels/corpus/Woolf_Lighthouse_1927.txt contains 11157 unique words.\n",
      "../../../cds-language/data/100_english_novels/corpus/Meredith_Richmond_1871.txt contains 28892 unique words.\n",
      "../../../cds-language/data/100_english_novels/corpus/Stevenson_Treasure_1883.txt contains 10831 unique words.\n",
      "../../../cds-language/data/100_english_novels/corpus/Forster_Howards_1910.txt contains 17065 unique words.\n",
      "../../../cds-language/data/100_english_novels/corpus/Wcollins_Basil_1852.txt contains 14586 unique words.\n",
      "../../../cds-language/data/100_english_novels/corpus/Schreiner_Undine_1929.txt contains 11744 unique words.\n",
      "../../../cds-language/data/100_english_novels/corpus/Galsworthy_Man_1906.txt contains 16713 unique words.\n",
      "../../../cds-language/data/100_english_novels/corpus/Corelli_Innocent_1914.txt contains 19627 unique words.\n",
      "../../../cds-language/data/100_english_novels/corpus/Kipling_Light_1891.txt contains 12493 unique words.\n",
      "../../../cds-language/data/100_english_novels/corpus/Conrad_Nostromo_1904.txt contains 21884 unique words.\n",
      "../../../cds-language/data/100_english_novels/corpus/Stevenson_Arrow_1888.txt contains 13168 unique words.\n",
      "../../../cds-language/data/100_english_novels/corpus/Hardy_Tess_1891.txt contains 20955 unique words.\n",
      "../../../cds-language/data/100_english_novels/corpus/Thackeray_Esmond_1852.txt contains 21375 unique words.\n",
      "../../../cds-language/data/100_english_novels/corpus/Doyle_Lost_1912.txt contains 12621 unique words.\n",
      "../../../cds-language/data/100_english_novels/corpus/Trollope_Angel_1881.txt contains 18023 unique words.\n",
      "../../../cds-language/data/100_english_novels/corpus/Gissing_Warburton_1903.txt contains 12864 unique words.\n",
      "../../../cds-language/data/100_english_novels/corpus/Barclay_Rosary_1909.txt contains 15223 unique words.\n",
      "../../../cds-language/data/100_english_novels/corpus/Eliot_Daniel_1876.txt contains 28606 unique words.\n",
      "../../../cds-language/data/100_english_novels/corpus/James_Tragic_1890.txt contains 21589 unique words.\n",
      "../../../cds-language/data/100_english_novels/corpus/Doyle_Micah_1889.txt contains 23564 unique words.\n",
      "../../../cds-language/data/100_english_novels/corpus/Dickens_Bleak_1853.txt contains 30797 unique words.\n",
      "../../../cds-language/data/100_english_novels/corpus/Woolf_Night_1919.txt contains 19055 unique words.\n",
      "../../../cds-language/data/100_english_novels/corpus/Braddon_Audley_1862.txt contains 18055 unique words.\n",
      "../../../cds-language/data/100_english_novels/corpus/Bennet_Babylon_1902.txt contains 11529 unique words.\n",
      "../../../cds-language/data/100_english_novels/corpus/Kipling_Kim_1901.txt contains 17998 unique words.\n",
      "../../../cds-language/data/100_english_novels/corpus/Lytton_What_1858.txt contains 38658 unique words.\n",
      "../../../cds-language/data/100_english_novels/corpus/Meredith_Marriage_1895.txt contains 24931 unique words.\n",
      "../../../cds-language/data/100_english_novels/corpus/Corelli_Satan_1895.txt contains 22058 unique words.\n",
      "../../../cds-language/data/100_english_novels/corpus/Haggard_Mines_1885.txt contains 12373 unique words.\n",
      "../../../cds-language/data/100_english_novels/corpus/Stevenson_Catriona_1893.txt contains 13816 unique words.\n",
      "../../../cds-language/data/100_english_novels/corpus/Doyle_Hound_1902.txt contains 9393 unique words.\n",
      "../../../cds-language/data/100_english_novels/corpus/Chesterton_Innocence_1911.txt contains 13458 unique words.\n",
      "../../../cds-language/data/100_english_novels/corpus/Blackmore_Lorna_1869.txt contains 25408 unique words.\n",
      "../../../cds-language/data/100_english_novels/corpus/Haggard_Sheallan_1921.txt contains 13669 unique words.\n",
      "../../../cds-language/data/100_english_novels/corpus/Gaskell_Wives_1865.txt contains 23203 unique words.\n",
      "../../../cds-language/data/100_english_novels/corpus/Cbronte_Jane_1847.txt contains 25762 unique words.\n",
      "../../../cds-language/data/100_english_novels/corpus/Wcollins_Legacy_1889.txt contains 13383 unique words.\n",
      "../../../cds-language/data/100_english_novels/corpus/Morris_Roots_1890.txt contains 14085 unique words.\n",
      "../../../cds-language/data/100_english_novels/corpus/Burnett_Garden_1911.txt contains 8939 unique words.\n",
      "../../../cds-language/data/100_english_novels/corpus/Ford_Post_1926.txt contains 12728 unique words.\n",
      "../../../cds-language/data/100_english_novels/corpus/Thackeray_Pendennis_1850.txt contains 34188 unique words.\n",
      "../../../cds-language/data/100_english_novels/corpus/James_Roderick_1875.txt contains 17715 unique words.\n",
      "../../../cds-language/data/100_english_novels/corpus/Haggard_She_1887.txt contains 15269 unique words.\n",
      "../../../cds-language/data/100_english_novels/corpus/Galsworthy_River_1933.txt contains 13114 unique words.\n",
      "../../../cds-language/data/100_english_novels/corpus/Morris_Wood_1894.txt contains 6890 unique words.\n",
      "../../../cds-language/data/100_english_novels/corpus/Barclay_Postern_1911.txt contains 7921 unique words.\n",
      "../../../cds-language/data/100_english_novels/corpus/Conrad_Almayer_1895.txt contains 10344 unique words.\n",
      "../../../cds-language/data/100_english_novels/corpus/Thackeray_Virginians_1859.txt contains 34367 unique words.\n",
      "../../../cds-language/data/100_english_novels/corpus/Bennet_Helen_1910.txt contains 10251 unique words.\n",
      "../../../cds-language/data/100_english_novels/corpus/Lee_Brown_1884.txt contains 9369 unique words.\n",
      "../../../cds-language/data/100_english_novels/corpus/Lawrence_Women_1920.txt contains 22055 unique words.\n",
      "../../../cds-language/data/100_english_novels/corpus/Schreiner_Farm_1883.txt contains 13501 unique words.\n",
      "../../../cds-language/data/100_english_novels/corpus/Lytton_Novel_1853.txt contains 42679 unique words.\n",
      "../../../cds-language/data/100_english_novels/corpus/Lawrence_Peacock_1911.txt contains 18254 unique words.\n",
      "../../../cds-language/data/100_english_novels/corpus/Schreiner_Trooper_1897.txt contains 4832 unique words.\n",
      "../../../cds-language/data/100_english_novels/corpus/Cbronte_Shirley_1849.txt contains 29500 unique words.\n",
      "../../../cds-language/data/100_english_novels/corpus/James_Ambassadors_1903.txt contains 17390 unique words.\n",
      "../../../cds-language/data/100_english_novels/corpus/Lawrence_Serpent_1926.txt contains 21246 unique words.\n",
      "../../../cds-language/data/100_english_novels/corpus/Braddon_Quest_1871.txt contains 17608 unique words.\n",
      "../../../cds-language/data/100_english_novels/corpus/Dickens_Oliver_1839.txt contains 20367 unique words.\n",
      "../../../cds-language/data/100_english_novels/corpus/Trollope_Warden_1855.txt contains 11464 unique words.\n",
      "../../../cds-language/data/100_english_novels/corpus/Barclay_Ladies_1917.txt contains 15657 unique words.\n",
      "../../../cds-language/data/100_english_novels/corpus/Ward_Harvest_1920.txt contains 13264 unique words.\n",
      "../../../cds-language/data/100_english_novels/corpus/Blackmore_Erema_1877.txt contains 18885 unique words.\n",
      "../../../cds-language/data/100_english_novels/corpus/Wcollins_Woman_1860.txt contains 19959 unique words.\n",
      "../../../cds-language/data/100_english_novels/corpus/Hardy_Madding_1874.txt contains 20378 unique words.\n",
      "../../../cds-language/data/100_english_novels/corpus/Lee_Penelope_1903.txt contains 5325 unique words.\n",
      "../../../cds-language/data/100_english_novels/corpus/Eliot_Adam_1859.txt contains 21482 unique words.\n",
      "../../../cds-language/data/100_english_novels/corpus/Gaskell_Lovers_1863.txt contains 21087 unique words.\n",
      "../../../cds-language/data/100_english_novels/corpus/Corelli_Romance_1886.txt contains 15923 unique words.\n",
      "../../../cds-language/data/100_english_novels/corpus/Conrad_Rover_1923.txt contains 11978 unique words.\n",
      "../../../cds-language/data/100_english_novels/corpus/Gissing_Women_1893.txt contains 16912 unique words.\n",
      "../../../cds-language/data/100_english_novels/corpus/Woolf_Years_1937.txt contains 16701 unique words.\n",
      "../../../cds-language/data/100_english_novels/corpus/Trollope_Phineas_1869.txt contains 19592 unique words.\n",
      "../../../cds-language/data/100_english_novels/corpus/Lytton_Kenelm_1873.txt contains 24678 unique words.\n",
      "../../../cds-language/data/100_english_novels/corpus/Blackmore_Springhaven_1887.txt contains 23115 unique words.\n"
     ]
    },
    {
     "name": "stdout",
     "output_type": "stream",
     "text": [
      "../../../cds-language/data/100_english_novels/corpus/Forster_View_1908.txt contains 12114 unique words.\n",
      "../../../cds-language/data/100_english_novels/corpus/Eliot_Felix_1866.txt contains 22340 unique words.\n",
      "../../../cds-language/data/100_english_novels/corpus/Chesterton_Napoleon_1904.txt contains 10847 unique words.\n",
      "../../../cds-language/data/100_english_novels/corpus/Bennet_Imperial_1930.txt contains 29278 unique words.\n",
      "../../../cds-language/data/100_english_novels/corpus/Burnett_Princess_1905.txt contains 9037 unique words.\n",
      "../../../cds-language/data/100_english_novels/corpus/Ward_Milly_1881.txt contains 6688 unique words.\n",
      "../../../cds-language/data/100_english_novels/corpus/Ford_Girl_1907.txt contains 7092 unique words.\n",
      "../../../cds-language/data/100_english_novels/corpus/Meredith_Feverel_1859.txt contains 24576 unique words.\n",
      "../../../cds-language/data/100_english_novels/corpus/Lee_Albany_1884.txt contains 11628 unique words.\n",
      "../../../cds-language/data/100_english_novels/corpus/Ford_Soldier_1915.txt contains 10626 unique words.\n",
      "../../../cds-language/data/100_english_novels/corpus/Ward_Ashe_1905.txt contains 21292 unique words.\n",
      "../../../cds-language/data/100_english_novels/corpus/Morris_Water_1897.txt contains 12079 unique words.\n",
      "../../../cds-language/data/100_english_novels/corpus/Galsworthy_Saints_1919.txt contains 14582 unique words.\n",
      "../../../cds-language/data/100_english_novels/corpus/Gissing_Unclassed_1884.txt contains 15769 unique words.\n",
      "../../../cds-language/data/100_english_novels/corpus/Anon_Clara_1864.txt contains 24797 unique words.\n",
      "../../../cds-language/data/100_english_novels/corpus/Hardy_Jude_1895.txt contains 19237 unique words.\n",
      "../../../cds-language/data/100_english_novels/corpus/Dickens_Expectations_1861.txt contains 20536 unique words.\n",
      "../../../cds-language/data/100_english_novels/corpus/Chesterton_Thursday_1908.txt contains 10385 unique words.\n",
      "../../../cds-language/data/100_english_novels/corpus/Burnett_Lord_1886.txt contains 8131 unique words.\n",
      "../../../cds-language/data/100_english_novels/corpus/Braddon_Phantom_1883.txt contains 22474 unique words.\n",
      "../../../cds-language/data/100_english_novels/corpus/Gaskell_Ruth_1855.txt contains 18148 unique words.\n",
      "../../../cds-language/data/100_english_novels/corpus/Kipling_Captains_1896.txt contains 11709 unique words.\n"
     ]
    }
   ],
   "source": [
    "for filename in Path(data_path).glob(\"*.txt\"): #for each filename in the directory\n",
    "    unique_words = [] #create an empty list for unique words\n",
    "    \n",
    "    with open(filename, \"r\", encoding=\"utf-8\") as file:#open the file\n",
    "        loaded_text = file.read() #Read file and save in variable\n",
    "        \n",
    "        loaded_text.lower #make the text lowercase\n",
    "        split_text = loaded_text.split() #split on whitespace\n",
    "        \n",
    "        for word in split_text: #for each word in the splitted text\n",
    "            if word not in unique_words: #if the word is not in the list of unique word\n",
    "                unique_words.append(word) #add current word to the list\n",
    "                \n",
    "    word_count = len(split_text) #count words and save result in a variable\n",
    "    unique_word_count = len(unique_words) #count unique words from the list and save the result\n",
    "    print(f\"{filename} contains {unique_word_count} unique words.\") #Print word-count\n",
    "        "
   ]
  },
  {
   "cell_type": "markdown",
   "metadata": {},
   "source": [
    "## Save result as a single file consisting of three columns: filename, total_words, unique_words"
   ]
  },
  {
   "cell_type": "markdown",
   "metadata": {},
   "source": [
    "I start out by creating a new csv-file, and a writer object. I Then use the same loop as previously. Then I use my writer object to add the value of the variables to the csv-file."
   ]
  },
  {
   "cell_type": "code",
   "execution_count": 7,
   "metadata": {},
   "outputs": [
    {
     "name": "stdout",
     "output_type": "stream",
     "text": [
      "../../../cds-language/data/100_english_novels/corpus/Cbronte_Villette_1853.txt contains 29084 unique words.\n",
      "../../../cds-language/data/100_english_novels/corpus/Forster_Angels_1905.txt contains 9464 unique words.\n",
      "../../../cds-language/data/100_english_novels/corpus/Woolf_Lighthouse_1927.txt contains 11157 unique words.\n",
      "../../../cds-language/data/100_english_novels/corpus/Meredith_Richmond_1871.txt contains 28892 unique words.\n",
      "../../../cds-language/data/100_english_novels/corpus/Stevenson_Treasure_1883.txt contains 10831 unique words.\n",
      "../../../cds-language/data/100_english_novels/corpus/Forster_Howards_1910.txt contains 17065 unique words.\n",
      "../../../cds-language/data/100_english_novels/corpus/Wcollins_Basil_1852.txt contains 14586 unique words.\n",
      "../../../cds-language/data/100_english_novels/corpus/Schreiner_Undine_1929.txt contains 11744 unique words.\n",
      "../../../cds-language/data/100_english_novels/corpus/Galsworthy_Man_1906.txt contains 16713 unique words.\n",
      "../../../cds-language/data/100_english_novels/corpus/Corelli_Innocent_1914.txt contains 19627 unique words.\n",
      "../../../cds-language/data/100_english_novels/corpus/Kipling_Light_1891.txt contains 12493 unique words.\n",
      "../../../cds-language/data/100_english_novels/corpus/Conrad_Nostromo_1904.txt contains 21884 unique words.\n",
      "../../../cds-language/data/100_english_novels/corpus/Stevenson_Arrow_1888.txt contains 13168 unique words.\n",
      "../../../cds-language/data/100_english_novels/corpus/Hardy_Tess_1891.txt contains 20955 unique words.\n",
      "../../../cds-language/data/100_english_novels/corpus/Thackeray_Esmond_1852.txt contains 21375 unique words.\n",
      "../../../cds-language/data/100_english_novels/corpus/Doyle_Lost_1912.txt contains 12621 unique words.\n",
      "../../../cds-language/data/100_english_novels/corpus/Trollope_Angel_1881.txt contains 18023 unique words.\n",
      "../../../cds-language/data/100_english_novels/corpus/Gissing_Warburton_1903.txt contains 12864 unique words.\n",
      "../../../cds-language/data/100_english_novels/corpus/Barclay_Rosary_1909.txt contains 15223 unique words.\n",
      "../../../cds-language/data/100_english_novels/corpus/Eliot_Daniel_1876.txt contains 28606 unique words.\n",
      "../../../cds-language/data/100_english_novels/corpus/James_Tragic_1890.txt contains 21589 unique words.\n",
      "../../../cds-language/data/100_english_novels/corpus/Doyle_Micah_1889.txt contains 23564 unique words.\n",
      "../../../cds-language/data/100_english_novels/corpus/Dickens_Bleak_1853.txt contains 30797 unique words.\n",
      "../../../cds-language/data/100_english_novels/corpus/Woolf_Night_1919.txt contains 19055 unique words.\n",
      "../../../cds-language/data/100_english_novels/corpus/Braddon_Audley_1862.txt contains 18055 unique words.\n",
      "../../../cds-language/data/100_english_novels/corpus/Bennet_Babylon_1902.txt contains 11529 unique words.\n",
      "../../../cds-language/data/100_english_novels/corpus/Kipling_Kim_1901.txt contains 17998 unique words.\n",
      "../../../cds-language/data/100_english_novels/corpus/Lytton_What_1858.txt contains 38658 unique words.\n",
      "../../../cds-language/data/100_english_novels/corpus/Meredith_Marriage_1895.txt contains 24931 unique words.\n",
      "../../../cds-language/data/100_english_novels/corpus/Corelli_Satan_1895.txt contains 22058 unique words.\n",
      "../../../cds-language/data/100_english_novels/corpus/Haggard_Mines_1885.txt contains 12373 unique words.\n",
      "../../../cds-language/data/100_english_novels/corpus/Stevenson_Catriona_1893.txt contains 13816 unique words.\n",
      "../../../cds-language/data/100_english_novels/corpus/Doyle_Hound_1902.txt contains 9393 unique words.\n",
      "../../../cds-language/data/100_english_novels/corpus/Chesterton_Innocence_1911.txt contains 13458 unique words.\n",
      "../../../cds-language/data/100_english_novels/corpus/Blackmore_Lorna_1869.txt contains 25408 unique words.\n",
      "../../../cds-language/data/100_english_novels/corpus/Haggard_Sheallan_1921.txt contains 13669 unique words.\n",
      "../../../cds-language/data/100_english_novels/corpus/Gaskell_Wives_1865.txt contains 23203 unique words.\n",
      "../../../cds-language/data/100_english_novels/corpus/Cbronte_Jane_1847.txt contains 25762 unique words.\n",
      "../../../cds-language/data/100_english_novels/corpus/Wcollins_Legacy_1889.txt contains 13383 unique words.\n",
      "../../../cds-language/data/100_english_novels/corpus/Morris_Roots_1890.txt contains 14085 unique words.\n",
      "../../../cds-language/data/100_english_novels/corpus/Burnett_Garden_1911.txt contains 8939 unique words.\n",
      "../../../cds-language/data/100_english_novels/corpus/Ford_Post_1926.txt contains 12728 unique words.\n",
      "../../../cds-language/data/100_english_novels/corpus/Thackeray_Pendennis_1850.txt contains 34188 unique words.\n",
      "../../../cds-language/data/100_english_novels/corpus/James_Roderick_1875.txt contains 17715 unique words.\n",
      "../../../cds-language/data/100_english_novels/corpus/Haggard_She_1887.txt contains 15269 unique words.\n",
      "../../../cds-language/data/100_english_novels/corpus/Galsworthy_River_1933.txt contains 13114 unique words.\n",
      "../../../cds-language/data/100_english_novels/corpus/Morris_Wood_1894.txt contains 6890 unique words.\n",
      "../../../cds-language/data/100_english_novels/corpus/Barclay_Postern_1911.txt contains 7921 unique words.\n",
      "../../../cds-language/data/100_english_novels/corpus/Conrad_Almayer_1895.txt contains 10344 unique words.\n",
      "../../../cds-language/data/100_english_novels/corpus/Thackeray_Virginians_1859.txt contains 34367 unique words.\n",
      "../../../cds-language/data/100_english_novels/corpus/Bennet_Helen_1910.txt contains 10251 unique words.\n",
      "../../../cds-language/data/100_english_novels/corpus/Lee_Brown_1884.txt contains 9369 unique words.\n",
      "../../../cds-language/data/100_english_novels/corpus/Lawrence_Women_1920.txt contains 22055 unique words.\n",
      "../../../cds-language/data/100_english_novels/corpus/Schreiner_Farm_1883.txt contains 13501 unique words.\n",
      "../../../cds-language/data/100_english_novels/corpus/Lytton_Novel_1853.txt contains 42679 unique words.\n",
      "../../../cds-language/data/100_english_novels/corpus/Lawrence_Peacock_1911.txt contains 18254 unique words.\n",
      "../../../cds-language/data/100_english_novels/corpus/Schreiner_Trooper_1897.txt contains 4832 unique words.\n",
      "../../../cds-language/data/100_english_novels/corpus/Cbronte_Shirley_1849.txt contains 29500 unique words.\n",
      "../../../cds-language/data/100_english_novels/corpus/James_Ambassadors_1903.txt contains 17390 unique words.\n",
      "../../../cds-language/data/100_english_novels/corpus/Lawrence_Serpent_1926.txt contains 21246 unique words.\n",
      "../../../cds-language/data/100_english_novels/corpus/Braddon_Quest_1871.txt contains 17608 unique words.\n",
      "../../../cds-language/data/100_english_novels/corpus/Dickens_Oliver_1839.txt contains 20367 unique words.\n",
      "../../../cds-language/data/100_english_novels/corpus/Trollope_Warden_1855.txt contains 11464 unique words.\n",
      "../../../cds-language/data/100_english_novels/corpus/Barclay_Ladies_1917.txt contains 15657 unique words.\n",
      "../../../cds-language/data/100_english_novels/corpus/Ward_Harvest_1920.txt contains 13264 unique words.\n",
      "../../../cds-language/data/100_english_novels/corpus/Blackmore_Erema_1877.txt contains 18885 unique words.\n",
      "../../../cds-language/data/100_english_novels/corpus/Wcollins_Woman_1860.txt contains 19959 unique words.\n",
      "../../../cds-language/data/100_english_novels/corpus/Hardy_Madding_1874.txt contains 20378 unique words.\n",
      "../../../cds-language/data/100_english_novels/corpus/Lee_Penelope_1903.txt contains 5325 unique words.\n",
      "../../../cds-language/data/100_english_novels/corpus/Eliot_Adam_1859.txt contains 21482 unique words.\n",
      "../../../cds-language/data/100_english_novels/corpus/Gaskell_Lovers_1863.txt contains 21087 unique words.\n",
      "../../../cds-language/data/100_english_novels/corpus/Corelli_Romance_1886.txt contains 15923 unique words.\n",
      "../../../cds-language/data/100_english_novels/corpus/Conrad_Rover_1923.txt contains 11978 unique words.\n",
      "../../../cds-language/data/100_english_novels/corpus/Gissing_Women_1893.txt contains 16912 unique words.\n",
      "../../../cds-language/data/100_english_novels/corpus/Woolf_Years_1937.txt contains 16701 unique words.\n",
      "../../../cds-language/data/100_english_novels/corpus/Trollope_Phineas_1869.txt contains 19592 unique words.\n",
      "../../../cds-language/data/100_english_novels/corpus/Lytton_Kenelm_1873.txt contains 24678 unique words.\n",
      "../../../cds-language/data/100_english_novels/corpus/Blackmore_Springhaven_1887.txt contains 23115 unique words.\n"
     ]
    },
    {
     "name": "stdout",
     "output_type": "stream",
     "text": [
      "../../../cds-language/data/100_english_novels/corpus/Forster_View_1908.txt contains 12114 unique words.\n",
      "../../../cds-language/data/100_english_novels/corpus/Eliot_Felix_1866.txt contains 22340 unique words.\n",
      "../../../cds-language/data/100_english_novels/corpus/Chesterton_Napoleon_1904.txt contains 10847 unique words.\n",
      "../../../cds-language/data/100_english_novels/corpus/Bennet_Imperial_1930.txt contains 29278 unique words.\n",
      "../../../cds-language/data/100_english_novels/corpus/Burnett_Princess_1905.txt contains 9037 unique words.\n",
      "../../../cds-language/data/100_english_novels/corpus/Ward_Milly_1881.txt contains 6688 unique words.\n",
      "../../../cds-language/data/100_english_novels/corpus/Ford_Girl_1907.txt contains 7092 unique words.\n",
      "../../../cds-language/data/100_english_novels/corpus/Meredith_Feverel_1859.txt contains 24576 unique words.\n",
      "../../../cds-language/data/100_english_novels/corpus/Lee_Albany_1884.txt contains 11628 unique words.\n",
      "../../../cds-language/data/100_english_novels/corpus/Ford_Soldier_1915.txt contains 10626 unique words.\n",
      "../../../cds-language/data/100_english_novels/corpus/Ward_Ashe_1905.txt contains 21292 unique words.\n",
      "../../../cds-language/data/100_english_novels/corpus/Morris_Water_1897.txt contains 12079 unique words.\n",
      "../../../cds-language/data/100_english_novels/corpus/Galsworthy_Saints_1919.txt contains 14582 unique words.\n",
      "../../../cds-language/data/100_english_novels/corpus/Gissing_Unclassed_1884.txt contains 15769 unique words.\n",
      "../../../cds-language/data/100_english_novels/corpus/Anon_Clara_1864.txt contains 24797 unique words.\n",
      "../../../cds-language/data/100_english_novels/corpus/Hardy_Jude_1895.txt contains 19237 unique words.\n",
      "../../../cds-language/data/100_english_novels/corpus/Dickens_Expectations_1861.txt contains 20536 unique words.\n",
      "../../../cds-language/data/100_english_novels/corpus/Chesterton_Thursday_1908.txt contains 10385 unique words.\n",
      "../../../cds-language/data/100_english_novels/corpus/Burnett_Lord_1886.txt contains 8131 unique words.\n",
      "../../../cds-language/data/100_english_novels/corpus/Braddon_Phantom_1883.txt contains 22474 unique words.\n",
      "../../../cds-language/data/100_english_novels/corpus/Gaskell_Ruth_1855.txt contains 18148 unique words.\n",
      "../../../cds-language/data/100_english_novels/corpus/Kipling_Captains_1896.txt contains 11709 unique words.\n"
     ]
    }
   ],
   "source": [
    "with open(\"word_count.csv\", mode = \"w\") as csv_file:#create and open new csv-file\n",
    "    writer = csv.DictWriter(csv_file, fieldnames=[\"filename\", \"word_count\", \"unique_words\"]) #create writer object\n",
    "    writer.writeheader() #add headers\n",
    "    \n",
    "    for filename in Path(data_path).glob(\"*.txt\"): #for each filename in the directory\n",
    "        unique_words = [] #create an empty list for unique words\n",
    "    \n",
    "        with open(filename, \"r\", encoding=\"utf-8\") as file:#open the file\n",
    "            loaded_text = file.read() #Read file and save in variable\n",
    "        \n",
    "            loaded_text.lower #make the text lowercase\n",
    "            split_text = loaded_text.split() #split on whitespace\n",
    "        \n",
    "            for word in split_text: #for each word in the splitted text\n",
    "                if word not in unique_words: #if the word is not in the list of unique word\n",
    "                    unique_words.append(word) #add current word to the list\n",
    "                \n",
    "            word_count = len(split_text) #count words and save result in a variable\n",
    "            unique_word_count = len(unique_words) #count unique words from the list and save the result\n",
    "            print(f\"{filename} contains {unique_word_count} unique words.\") #Print word-count\n",
    "            \n",
    "            writer.writerow({\"filename\": filename, \"word_count\": word_count, \"unique_words\": unique_word_count})\n",
    "            #add new row to the csv-file.\n",
    "        "
   ]
  }
 ],
 "metadata": {
  "kernelspec": {
   "display_name": "lang101",
   "language": "python",
   "name": "lang101"
  },
  "language_info": {
   "codemirror_mode": {
    "name": "ipython",
    "version": 3
   },
   "file_extension": ".py",
   "mimetype": "text/x-python",
   "name": "python",
   "nbconvert_exporter": "python",
   "pygments_lexer": "ipython3",
   "version": "3.6.9"
  }
 },
 "nbformat": 4,
 "nbformat_minor": 4
}
